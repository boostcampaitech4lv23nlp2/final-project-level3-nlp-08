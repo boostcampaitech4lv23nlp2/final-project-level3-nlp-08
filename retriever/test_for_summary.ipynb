{
 "cells": [
  {
   "cell_type": "code",
   "execution_count": 1,
   "metadata": {},
   "outputs": [
    {
     "name": "stderr",
     "output_type": "stream",
     "text": [
      "/opt/conda/lib/python3.8/site-packages/tqdm/auto.py:22: TqdmWarning: IProgress not found. Please update jupyter and ipywidgets. See https://ipywidgets.readthedocs.io/en/stable/user_install.html\n",
      "  from .autonotebook import tqdm as notebook_tqdm\n"
     ]
    }
   ],
   "source": [
    "import json\n",
    "import torch.nn.functional as F\n",
    "from model import *\n",
    "from tokenizer import *\n",
    "import logging\n",
    "import sys\n",
    "from typing import Callable, Dict, List, NoReturn, Tuple\n",
    "import torch\n",
    "import numpy as np\n",
    "from transformers import AutoTokenizer, set_seed"
   ]
  },
  {
   "cell_type": "code",
   "execution_count": 2,
   "metadata": {},
   "outputs": [],
   "source": [
    "set_seed(42)"
   ]
  },
  {
   "cell_type": "code",
   "execution_count": 37,
   "metadata": {},
   "outputs": [],
   "source": [
    "with open(\"../../json_data/blogs_data/blogs_data.json\", \"r\", encoding=\"utf-8\") as f:\n",
    "        wiki = json.load(f)\n",
    "context = list(dict.fromkeys([v[\"content\"] for v in wiki.values()]))\n",
    "urls = list(dict.fromkeys([v[\"url\"] for v in wiki.values()]))"
   ]
  },
  {
   "cell_type": "code",
   "execution_count": 29,
   "metadata": {},
   "outputs": [
    {
     "name": "stderr",
     "output_type": "stream",
     "text": [
      "Some weights of the model checkpoint at klue/bert-base were not used when initializing ColbertModel: ['cls.seq_relationship.weight', 'cls.predictions.bias', 'cls.seq_relationship.bias', 'cls.predictions.transform.dense.weight', 'cls.predictions.decoder.bias', 'cls.predictions.transform.dense.bias', 'cls.predictions.transform.LayerNorm.weight', 'cls.predictions.transform.LayerNorm.bias', 'cls.predictions.decoder.weight']\n",
      "- This IS expected if you are initializing ColbertModel from the checkpoint of a model trained on another task or with another architecture (e.g. initializing a BertForSequenceClassification model from a BertForPreTraining model).\n",
      "- This IS NOT expected if you are initializing ColbertModel from the checkpoint of a model that you expect to be exactly identical (initializing a BertForSequenceClassification model from a BertForSequenceClassification model).\n",
      "Some weights of ColbertModel were not initialized from the model checkpoint at klue/bert-base and are newly initialized: ['linear.weight']\n",
      "You should probably TRAIN this model on a down-stream task to be able to use it for predictions and inference.\n"
     ]
    },
    {
     "data": {
      "text/plain": [
       "<All keys matched successfully>"
      ]
     },
     "execution_count": 29,
     "metadata": {},
     "output_type": "execute_result"
    }
   ],
   "source": [
    "MODEL_NAME = \"klue/bert-base\"\n",
    "tokenizer = load_tokenizer(MODEL_NAME)\n",
    "model = ColbertModel.from_pretrained(MODEL_NAME)\n",
    "model.resize_token_embeddings(tokenizer.vocab_size + 2)\n",
    "device = torch.device(\"cuda:0\" if torch.cuda.is_available() else \"cpu\")\n",
    "model.to(device)\n",
    "model.load_state_dict(torch.load(f\"./blog_model/fine_tuned_blog_colbert.pth\"))"
   ]
  },
  {
   "cell_type": "code",
   "execution_count": 30,
   "metadata": {},
   "outputs": [],
   "source": [
    "query = \"제주도에 고기국수가 맛있는데 있는지 찾아봐야 할 것 같다. 제주도 흑돼지는 숙성도 좋고 말고기는 마우돈이 괜찮다고 해서 먹어보고 싶다고 이야기한다.\"\n",
    "# 고기국수, 흑돼지 , 말고기 "
   ]
  },
  {
   "cell_type": "code",
   "execution_count": 31,
   "metadata": {},
   "outputs": [],
   "source": [
    "def preprocess(text):\n",
    "    text = re.sub(r\"[^A-Za-z0-9가-힣.?!,()~‘’“”\"\":&<>·\\-\\'+\\s]\", \"\", text)\n",
    "    text = re.sub(r\"\\s+\", \" \", text).strip()  # 두 개 이상의 연속된 공백을 하나로 치환\n",
    "    return text  "
   ]
  },
  {
   "cell_type": "code",
   "execution_count": 32,
   "metadata": {},
   "outputs": [],
   "source": [
    "def tokenize(dataset, tokenizer):\n",
    "    preprocessed_data=\"[Q] \" + preprocess(query)\n",
    "    tokenized_query = tokenizer(\n",
    "        preprocessed_data, return_tensors=\"pt\", padding=True, truncation=True, max_length=128\n",
    "    )\n",
    "    return tokenized_query"
   ]
  },
  {
   "cell_type": "code",
   "execution_count": 33,
   "metadata": {},
   "outputs": [],
   "source": [
    "def get_score(Q, D, N=None, eval=False):\n",
    "        # hard negative N은 train에만 쓰임.\n",
    "        if eval:\n",
    "            final_score = torch.tensor([])\n",
    "            for D_batch in tqdm(D):\n",
    "                D_batch = np.array(D_batch)\n",
    "                D_batch = torch.Tensor(D_batch).squeeze()\n",
    "                print(\"Docu_dim_size!! : \",D_batch.shape)\n",
    "                p_seqeunce_output = D_batch.transpose(\n",
    "                    1, 2\n",
    "                )  # (batch_size,hidden_size,p_sequence_length)-> 200 128 512\n",
    "                print(\"Query_dim_size!! : \",Q.size()) \n",
    "                q_sequence_output = Q.view(\n",
    "                    1, 1, -1, 128\n",
    "                )  # (1, 1, q_sequence_length, hidden_size)\n",
    "                dot_prod = torch.matmul(\n",
    "                    q_sequence_output, p_seqeunce_output\n",
    "                )  # (1,batch_size, q_sequence_length, p_seqence_length)\n",
    "                max_dot_prod_score = torch.max(dot_prod, dim=3)[\n",
    "                    0\n",
    "                ]  # (batch_size,batch_size,q_sequnce_length)\n",
    "                score = torch.sum(max_dot_prod_score, dim=2)  # (batch_size,batch_size)\n",
    "                final_score = torch.cat([final_score, score], dim=1)\n",
    "            print(\"final_score!! :\",final_score.size())\n",
    "            return final_score"
   ]
  },
  {
   "cell_type": "code",
   "execution_count": 35,
   "metadata": {},
   "outputs": [
    {
     "name": "stdout",
     "output_type": "stream",
     "text": [
      "Start passage embedding......\n"
     ]
    },
    {
     "name": "stderr",
     "output_type": "stream",
     "text": [
      "100%|██████████| 5321/5321 [02:30<00:00, 35.29it/s]\n",
      " 11%|█         | 3/27 [00:00<00:00, 29.69it/s]"
     ]
    },
    {
     "name": "stdout",
     "output_type": "stream",
     "text": [
      "Docu_dim_size!! :  torch.Size([200, 512, 128])\n",
      "Query_dim_size!! :  torch.Size([1, 45, 128])\n",
      "Docu_dim_size!! :  torch.Size([200, 512, 128])\n",
      "Query_dim_size!! :  torch.Size([1, 45, 128])\n",
      "Docu_dim_size!! :  torch.Size([200, 512, 128])\n",
      "Query_dim_size!! :  torch.Size([1, 45, 128])\n",
      "Docu_dim_size!! :  torch.Size([200, 512, 128])\n",
      "Query_dim_size!! :  torch.Size([1, 45, 128])\n",
      "Docu_dim_size!! :  torch.Size([200, 512, 128])\n",
      "Query_dim_size!! :  torch.Size([1, 45, 128])\n",
      "Docu_dim_size!! :  torch.Size([200, 512, 128])\n",
      "Query_dim_size!! :  torch.Size([1, 45, 128])\n"
     ]
    },
    {
     "name": "stderr",
     "output_type": "stream",
     "text": [
      " 33%|███▎      | 9/27 [00:00<00:00, 23.77it/s]"
     ]
    },
    {
     "name": "stdout",
     "output_type": "stream",
     "text": [
      "Docu_dim_size!! :  torch.Size([200, 512, 128])\n",
      "Query_dim_size!! :  torch.Size([1, 45, 128])\n",
      "Docu_dim_size!! :  torch.Size([200, 512, 128])\n",
      "Query_dim_size!! :  torch.Size([1, 45, 128])\n",
      "Docu_dim_size!! :  torch.Size([200, 512, 128])\n",
      "Query_dim_size!! :  torch.Size([1, 45, 128])\n",
      "Docu_dim_size!! :  torch.Size([200, 512, 128])\n",
      "Query_dim_size!! :  torch.Size([1, 45, 128])\n",
      "Docu_dim_size!! :  torch.Size([200, 512, 128])\n",
      "Query_dim_size!! :  torch.Size([1, 45, 128])\n"
     ]
    },
    {
     "name": "stderr",
     "output_type": "stream",
     "text": [
      " 56%|█████▌    | 15/27 [00:00<00:00, 24.84it/s]"
     ]
    },
    {
     "name": "stdout",
     "output_type": "stream",
     "text": [
      "Docu_dim_size!! :  torch.Size([200, 512, 128])\n",
      "Query_dim_size!! :  torch.Size([1, 45, 128])\n",
      "Docu_dim_size!! :  torch.Size([200, 512, 128])\n",
      "Query_dim_size!! :  torch.Size([1, 45, 128])\n",
      "Docu_dim_size!! :  torch.Size([200, 512, 128])\n",
      "Query_dim_size!! :  torch.Size([1, 45, 128])\n",
      "Docu_dim_size!! :  torch.Size([200, 512, 128])\n",
      "Query_dim_size!! :  torch.Size([1, 45, 128])\n",
      "Docu_dim_size!! :  torch.Size([200, 512, 128])\n",
      "Query_dim_size!! :  torch.Size([1, 45, 128])\n",
      "Docu_dim_size!! :  torch.Size([200, 512, 128])\n",
      "Query_dim_size!! :  torch.Size([1, 45, 128])\n"
     ]
    },
    {
     "name": "stderr",
     "output_type": "stream",
     "text": [
      " 78%|███████▊  | 21/27 [00:00<00:00, 24.51it/s]"
     ]
    },
    {
     "name": "stdout",
     "output_type": "stream",
     "text": [
      "Docu_dim_size!! :  torch.Size([200, 512, 128])\n",
      "Query_dim_size!! :  torch.Size([1, 45, 128])\n",
      "Docu_dim_size!! :  torch.Size([200, 512, 128])\n",
      "Query_dim_size!! :  torch.Size([1, 45, 128])\n",
      "Docu_dim_size!! :  torch.Size([200, 512, 128])\n",
      "Query_dim_size!! :  torch.Size([1, 45, 128])\n",
      "Docu_dim_size!! :  torch.Size([200, 512, 128])\n",
      "Query_dim_size!! :  torch.Size([1, 45, 128])\n",
      "Docu_dim_size!! :  torch.Size([200, 512, 128])\n",
      "Query_dim_size!! :  torch.Size([1, 45, 128])\n"
     ]
    },
    {
     "name": "stderr",
     "output_type": "stream",
     "text": [
      "100%|██████████| 27/27 [00:01<00:00, 24.57it/s]"
     ]
    },
    {
     "name": "stdout",
     "output_type": "stream",
     "text": [
      "Docu_dim_size!! :  torch.Size([200, 512, 128])\n",
      "Query_dim_size!! :  torch.Size([1, 45, 128])\n",
      "Docu_dim_size!! :  torch.Size([200, 512, 128])\n",
      "Query_dim_size!! :  torch.Size([1, 45, 128])\n",
      "Docu_dim_size!! :  torch.Size([200, 512, 128])\n",
      "Query_dim_size!! :  torch.Size([1, 45, 128])\n",
      "Docu_dim_size!! :  torch.Size([200, 512, 128])\n",
      "Query_dim_size!! :  torch.Size([1, 45, 128])\n",
      "Docu_dim_size!! :  torch.Size([121, 512, 128])\n",
      "Query_dim_size!! :  torch.Size([1, 45, 128])\n",
      "final_score!! : torch.Size([1, 5321])\n",
      "torch.Size([1, 5321])\n",
      "score !! :  tensor([[28.4640, 29.3031, 28.4482,  ..., 28.9409, 27.9027, 29.3155]])\n",
      "rank and rank_size!! : tensor([4810, 4214, 4761,  ..., 3797, 2268,  727])\n",
      "torch.Size([5321])\n"
     ]
    },
    {
     "name": "stderr",
     "output_type": "stream",
     "text": [
      "\n"
     ]
    }
   ],
   "source": [
    "batched_p_embs = []\n",
    "\n",
    "with torch.no_grad():\n",
    "\n",
    "    model.eval()\n",
    "\n",
    "    q_seqs_val = tokenize(query, tokenizer).to(\"cuda\")\n",
    "    q_emb = model.query(**q_seqs_val).to(\"cpu\")\n",
    "\n",
    "    print(\"Start passage embedding......\")\n",
    "    p_embs = []\n",
    "    for step, p in enumerate(tqdm(context)):\n",
    "        p = tokenize_colbert(p, tokenizer, corpus=\"doc\").to(\"cuda\")\n",
    "        p_emb = model.doc(**p).to(\"cpu\").numpy()\n",
    "        p_embs.append(p_emb)\n",
    "        if (step + 1) % 200 == 0:\n",
    "            batched_p_embs.append(p_embs)\n",
    "            p_embs = []\n",
    "    batched_p_embs.append(p_embs)\n",
    "\n",
    "dot_prod_scores = get_score(q_emb, batched_p_embs, eval=True)\n",
    "\n",
    "print(dot_prod_scores.size())\n",
    "\n",
    "rank = torch.argsort(dot_prod_scores, dim=1, descending=True).squeeze()\n",
    "print(\"score !! : \",dot_prod_scores)\n",
    "print(\"rank and rank_size!! :\",rank)\n",
    "print(rank.size())\n"
   ]
  },
  {
   "cell_type": "code",
   "execution_count": 36,
   "metadata": {},
   "outputs": [
    {
     "name": "stdout",
     "output_type": "stream",
     "text": [
      "TOP 1 : \n",
      " 음식에 진심이 무엇을 말하는지 깊이 생각해 본 적도 없고 그러고 싶지도 않지만 입에 맞는 음식을 먹는다는 것은 여행에 있어 아주 중요한 요소다. 더군다나 나 혼자만의 여행이 아닌 누군가와 만남을 갖는 때라면 먹는 것이 몹시 중요해지기는 순간이다. 삼각형 모양의 주차장이 야자수 나무와 어울려 꽤 낭만적으로 보이는 짚불도 애월점에 도착. 전에 들렀었을 때 2층은 치킨집이라고 들었던 것 같고 1층이 제주 애월 흑돼지 맛집으로 이미 소문이 나버린 짚불도 애월점이다. 오늘은 이곳에서 선배 부부와 만나기로 했고 선배 내외를 모두 만나는 건 수년 만이라 내가 아는 선상에서 최대한 맛이 좋았던 곳에서 식사를 하고 싶었다. 짚불도는 그 맛과 향이 독특해 인기가 높아진 듯하며 초벌로 짚불을 이용해 굽고 테이블에서 고기를 구울 때 다시 한번 짚불로 훈현을 하기 때문에 잡내가 없고 짚불의 향이 그대로 남아있어 특별하게 느껴진다. 실내는 그리 크지 않다.\n",
      "사각보다 활용성이 높다는 원형 테이블이며 의자는 하단부에 짐을 넣을 수 있도록 해 공간 활용을 최대한 이끌어 낸 듯한 인테리어가 특징이라면 특징일 수 있겠다. 최초 의자에 앉으면 기본 찬을 서비스해준다. 이후에 발생하는 추가 반찬 요구는 스스로 해결해야 하는 셀프 코너를 운영하고 있어 반찬이 떨어졌다 하여 주인장을 부르고 기다리는 일 없이 즉시 가져오면 된다. 어디서나 반납 가능한 충전 돼지 보조 배터리 대여.\n",
      "세상은 갈수록 좋아지는 것 같다.\n",
      "제주 애월 흑돼지 맛집에서 보조 배터리를 대여할 수 있을 거라 누가 생각이나 했겠는가?\n",
      "금액이 얼마인지 모르겠지만 마침 보조 배터리를 챙기지 못해 스마트폰이 꼴까닥 꼴까닥 하는 중이라면 가격에 대한 심리적 저항선이 매우 높을 수 있단 생각이 든다. 기본찬이 다 깔렸다.\n",
      "뭐 이런 풀때기?라고 생각하지 마시길.\n",
      "풀때기 자체로 먹어야 하는 건 그 자체로 맛이 좋고 필히 불판 위에 올려 드시라 말하고 싶은 것이 2가지 있다.\n",
      "그 하나는 고사리로 불판에서 살짝 구우며 애월 흑돼지가 뿜어낸 기름을 머금은 고사리의 맛이 기가 막히다.\n",
      "플러스 원, 김치다. 고사리 이상으로 맛이 좋은 것이 김치이며 불판에서 데우듯 살짝 굽다가 가위로 잘라 조금 더 구운 뒤 먹어보면 그 맛이 기가 막히다. 단, 하나의 조건이 있다면 애월 흑돼지가 불판에서 지글지글 익고 있을 때 올려야지 아무 때고 올리면 불판의 열기로 인해 타버릴 수 있다. 짚불 훈연과 초벌로 화장을 하고 등장한 제주 애월 흑돼지의 자태가 예사롭지 않다. 아직 불판에 오르지 않았음에도 먹음직스럽게 보이는 건 제주 흑돼지여서가 아니라 초벌에 의한 것이라 생각되지만 그 향도 침을 고이게 하는 요소다. 옆의 버섯이나 관자 그리고 딱새우가 눈에 들어오지 않을 정도라고 하면 이해가 되시려나? 아니 이건 뭐 화산 폭발일까?\n",
      "부글 부글 거리는 소리와 뿜어내는 수증기 그리고 못생긴 달걀찜의 모양새가 어찌나 가슴을 설레게 하는지. 달걀찜 보고 가슴이 설렌다는 게 우습게 들릴지 모르시겠지만 달걀찜이 등장하는 순간을 직접 보시면 어떤 느낌일지 이해가 되시리라 생각된다. 참고로 달걀찜은 기본 덕목이므로 별도 주문하지 않아도 등장한다. 가지런히 놓은 불판 플레이팅 정석.\n",
      "불길이 가장 센 중앙에 제주 흑돼지를 올린 뒤 주변으로 관자, 파김치, 김치, 고사리, 콩나물 등을 두른다.\n",
      "이때 관자를 불판에 그냥 올리는 것이 아니라 기름종이를 올린 뒤에 올려야 들러붙는 현상을 막을 수 있다.\n",
      "기름종이가 어디에?라고 궁금해하실 수 있는데 처음엔 신경 쓰실 일 없다.\n",
      "주인장 또는 직원분들이 알아서 해주시며 이후에 더 필요할 경우에만 의사 표시를 하면 된다. 나는 식사를 하러 식당을 찾을 때 내가 구워 먹어야 하는 집을 즐겨 찾지 않는다.\n",
      "그러면서도 이곳 짚불도 애월점을 방문하게 된 이유는 바쁘지 않은 시간에 방문을 하면 사장님이나 직원분께서 다 해주시기 때문이다. 그러나 피크타임에 방문하게 되면 세심한 배려는 포기하는 것이 예의다. 제주 애월 흑돼지 먹는 방법은 다양하다.\n",
      "개인적으로 즐기는 방법 중 하나인 생겨자를 얹어 먹는 방법이 있는가 하면 상추 위에 고기를 얹고 마늘, 고추, 된장 등을 발라 먹는 방법도 있을 것이고 단순하게 소금만 찍어 먹는 경우도 있고 별도의 소스 없이 흑돼지 그 자체만의 맛을 음미하며 먹는 방법도 있겠다. 하지만 관자는 초고추장이 딱인 듯하다. 그리고 딱새우.\n",
      "딱새우 역시 초고추장이 제격인 듯. 딱새우를 잘 살펴보면 푸른빛이 도는 알갱이를 보게 되는데 이건 딱새우 알이며 먹어도 된다.\n",
      "그리고 이 딱새우는 신선도를 유지하기 위해 바다에서 조업 후 선상에서 곧바로 손질, 급랭하여 공급받기 때문에 여간한 횟집의 딱새우보다 선도가 높다고 하겠다. 그리고 개인적으로 이곳 짚불도에서 빠뜨리지 않고 드셔보시라 권하고픈 메뉴가 짜글이다.\n",
      "짚불도 애월점의 주방장은 유명한 모 호텔의 셰프 출신으로 청결함이나 맛에 대해서 적극적이라 하시니 손님인 나의 입장에선 감사한 일이고 또 고개가 끄덕여지는 일이다. 선배 내외와 난 각자의 취향대로 음식을 주문하는데 이는 당시 상황과 느낌에 맞도록 알아서 주문하면 될 일인데 양이 적지 않으므로 음식물을 남기지 않으려면 2인당 1개의 메뉴를 고려해 볼 필요가 있다. 식사를 하며 직원분께 흑돼지에 대해 살짝 여쭤봤다.\n",
      "직원분의 말씀으로는 제주산 흑돼지 최상급 오겹살을 자체 개발한 시즈닝 숙성으로 향과 맛을 최대한 살린다고 하며 그 숙성 방법이 있기에 흑돼지의 살이 부드럽고 맛이 상승하게 된다. 와우~ 짜글이의 이 풍미를 어쩔 것인가! 조금 전에 고기 구워 먹었는데 짜글이 속에도 고기 풍년이다.\n",
      "짜글이를 주문하면 고기를 구워 먹지 않아도 단백질 공급이 충분할 듯하다.\n",
      "맛과 향 그리고 분위기가 참 좋다는 생각이 이번에도 여지없이 들었고 선배 부부도 상당히 만족한 표정이고 또 만족했다 표현을 하시니 오늘의 식당 선택은 칭찬받아 마땅한 결과라 하겠다. 나와 선배 모두 운전을 해야 하기에 술을 마시진 못했지만 이곳 짚불도 애월점에서는 제주의 시그니처 맥주를 다양하게 판매하고 있어 다양한 제주 술을 맛볼 수 있는 기회가 되기도 한다. \n",
      "========================================\n",
      "TOP 2 : \n",
      " 제주 먹거리 중문 흑돼지 제주도 식도락 여행\n",
      "글, 사진 : 그루터기 제주도는 먹거리가 많아 식도락 여행을 즐기기 좋은 곳이다. 그중에서 꼭 먹어야 하는 제주 먹거리 1순위는 흑돼지다. 먹어도 먹어도 안 질리는 음식 중 하나가 아닐까 싶은데 일년 전 다녀온 중문흑돼지는 바다뷰와 생갈비, 다양한 반찬의 조화가 괜찮아 추천해주고 싶은 곳이다. ◉ 영업시간 : 12:00~22:00(라스트오더 21:00) 중문관광단지에서 멀지 않은 바닷가 근처에 자리한 꺼멍목장. 꺼멍이라는 말은 ‘검은’이라는 뜻으로 제주도 흑돼지를 떠올리게 하는 이름이다. 내부가 훤하게 들여다 보이는 건물이 굉장히 독특하고 멋졌다. 간판만 아니었다면 카페라고 착각을 할 수 있을 정도로 건물에 굉장히 신경을 쓴 것 같았다. 앞쪽으로는 넓은 주차장이 그리고 옆쪽으로는 넓은 잔디밭이 있었다. 내부는 굉장히 널찍했는데 점심, 저녁시간 피크타임에 오면 웨이팅이 기본! 웨이팅을 피하려면 오픈런이나 브레이크타임 바로 뒤에 오는 것이 좋다. 주문은 태블릿에서 직접 눌러서 할 수 있었는데 카드계산기가 달려 있었지만 계산은 카운터에서 후불로 하면 된다고 쓰여 있었다. 주문 후 기본반찬은 세팅이 되는데 #제주도흑돼지 뿐 아니라 채소 또한 유기노을 사용하고 있어서 반찬에도 진심이라는 걸 알 수 있었다. 셀프 코너도 있어 추가 반찬은 부담없이 편하게 가져다 먹을 수 있었다. 소금도 종류가 많았는데 핑크 솔트 소금도 있어서 반가웠다. 중문 흑돼지 꺼멍목장은 뚜껑도 착실하게 잘 닫아 놓고, 쌈도 이렇게 랩을 씌워 놓은 등 신선하고 깔끔하게 잘 관리되고 있었다. 얼마 후 제주 먹거리를 맛있게 익혀줄 벌겋게 달아오른 숯이 들어왔는데 새까맣지 않고 뽀얀 숯이 인상적이었다. 숯 중에서도 으뜸인 비장탄! 그 중에서도 커피나무 숯이라고 한다. 이번 식도락여행에서는 흑돼지 생갈비를 주문해봤다. 여기에 숙성흑돼지 목살도 함께 주문했다. 비장탄 위에 타지 않는 불판을 올리고 그 위에 생갈비부터 올렸다. 담백하고 육즙이 많은 것이 특징이라고 한다. 옆에는 제주에서 고기 먹을 때 필수인 멜젓도 함께 올려주었다. 보글보글 끓인 후에 고기를 찍어 먹으면 짭조름한 맛이 더해져 한층 맛이 업그레이드 되었다. 고기를 굽고 있는데 주문한 적 없는 옥돔이 나왔다! 알아보니 3인분 이상 주문하면 옥돔이 서비스라는!! 이런 서비스라면 언제나 대환영~ 고기 익기 전에 옥돔부터 맛봤다. 제주 먹거리 옥돔 뿐 아니라 계란 찜도 서비스로 나오는데 뚝배기도 작지 않았다. 포슬포슬 부드럽게 익은 계란 찜은 또 왜 이리 맛있는지! 너무 배가 고픈 상태여서 빠르게 숟가락을 가져다 댔다. 노릇노릇 잘 익어가는 중문 흑돼지 생갈비. 비장탄이 제 역할을 해준다는 걸 알 수 있었는데 돼지고기는 기름이 많아 그을음이 나는 경우가 많은데 그런 거 전혀 없이 골고루 잘 익어갔다. 고기 잘 구워주는 곳에서 식도락여행을 하면 처음부터 끝까지 맛있게 즐길 수 있다는 것~ 먹기 좋게 잘라서 구워 주는 걸 보는 것도 즐겁다. 노릇노릇 고소한 냄새를 온통 풍기며 익어가는 고기! 자른 다음에는 살살 굴려가며 구워주는게 사이사이 불향이 잘 스며들고 있었다. 참지 못하고 잘 익은 고기 한조각을 집어 입으로 가져갔다. 살코기와 지방이 적절한 조화를 이루어 어찌나 부드럽던지~ 고기는 소금에 찍어서 먹는 것이 가장 기본! 소금은 두개가 나오는데 하나는 후추 소금이었고 하나는 수제마농소금이라고 해서 마늘이 들어간 소금이었다. 마농소금은 고기랑 정말 잘 어울렸다. 다음은 목살 코스로~ 중문 흑돼지는 목살이 참 맛있는데 육질이 부드러워서인지 퍽퍽하지 않은 것이 특징이다. 꺼멍목장은 숙성 흑돼지여서 맛있는 상태로 숙성되어 나온다. 겉면을 노릇노릇 익히고 나서 자르면 되는데 부드럽게 잘린다. 생갈비는 쫄깃한 맛이 있었다면 목살은 부드러우면서도 담백했다. 다시 맛있게 골고루 익혀주기 비장탄이 정말 좋았던 게 타지 않고 잘 익었는데 숯 향이 고스란히 더해져서 고기가 잡내도 안나도 더 맛있는 느낌이었다. 목살은 이렇게 두툼하게 잘라 먹는 것이 좋은데 너무 바싹 익히면 질겨 지기에 속에 육즙을 간직한 정도로 잘 익히는 것이 포인트다. 유기농으로 직접 재배한다는 상추위에 파채를 올리고 고기를 올린 뒤 와사비도 곁들여서 쌈을 싸 먹었다. 채소와 고기의 궁합은 말이 필요 없는 궁합~ 함께 나온 김치와 곁들여 먹어도 맛있는데 김치며 장아찌며 요런 기본적인 것들이 맛있어서 고기와 함께 다양한 맛세계를 경험하기에 좋았다. 중문 흑돼지 오겹살을 안 먹고 가면 서운하기에 흑돼지 오겹살 추가요~ 처음 인 것처럼 다시 부지런히 먹어줄 차례! 그전에 밥도 그냥 넘어갈 수 없어서 찌개를 주문했다. 김치찌개는 김치를 제주스타일로 담다가 만든다고 하는데 진한 국물과 넉넉히 들어간 흑돼지~ 두부가 밥 한 공기 뚝딱 할 맛이었다. 식도락여행의 하이라이트라고 할 수 있는 중문흑돼지 오겹살 부위! 역시나 오겹살도 숙성되어 나오는데 껍데기가 함께 나와 껍질의 쫄깃함과 부드러운 육질을 동시에 즐길 수 있다. 회를 안 먹는 사람은 있어도 고기를 안 좋아하는 사람은 없을 것 같은데, 그래서 제주 먹거리로 흑돼지는 현명한 선택이 아닐 수 없다. 제주도까지 와서 흑돼지 안 먹고 가면 아마 서운할 테니까! 소금에 찍어서 순삭 해버리는 사이 마지막 메뉴가 나왔다. 바로바로 냉열무국수! 냉면이 아니라 국수라는 것이 맘에 들었는데 직접 만든 열무육수와 열무김치가 들어가서 시원한 맛이 압도적! 고기와 돌돌 말\n",
      "아서 먹으면 냉면과 또 다른 술술 넘어가는 매력이 있다. #중문흑돼지 꺼멍목장에서 제대로 즐긴 #식도락여행 . 뷰 좋고, 주차 편하고, 매장 깔끔하고, 무엇보다 고기의 질이 좋아 끝없이 먹을 수 있은 것 같았던 #제주먹거리 ! 이왕 먹는 거 조금 웨이팅이 있더라도 맛있는 곳에서의 #식도락 은 아주 현명한 선택이 아닐 수 없다! \n",
      "========================================\n",
      "TOP 3 : \n",
      " 가끔 여행지에서 먹었던 음식이 생각날 때가 있습니다. 서울에서는 똑같은 맛을 찾기가 힘들어 꾹꾹 참았다가 근처에 들리게 되면 놓치지 않고 방문하는데요 얼마 전에 다녀온 식당이 그랬습니다. 제주 고사리육개장 집이었는데 한 달이 되어가는 지금까지도 머릿속에서 떠나지 않습니다. 개인적으로 무척 만족스러웠던 곳이라 포스팅 남겨봅니다. 아침 8시부터 일과를 시작해 계획한 관광지를 모두 돌고 나니 점심 식사 시간이 되었습니다. 전날 흑돼지를 먹고, 숙소에서 조식도 든든하게 챙겼지만 활동량이 많아서 그런가 금방 배가 고파지더군요. 아들 로하도 저도 국밥을 사랑하기에 제주 고사리해장국을 먹기 위해 근처 한경면으로 향했습니다. 조용한 주택가... 도로에 자동차만 세워져 있을 뿐 지나다니는 사람도 많아 보이지 않습니다.  우리도 주차를 하고 미리 찍어 둔 채훈이네 해장국으로 향했습니다. 작은 간판이 눈에 들어오고... 이 자리에서 몇 십 년째 식당을 운영했을 것 같은 로컬 분위기가 납니다. 다행히 식사시간이 조금 지나서 그런가 입구에 대기하는 줄은 안 보이네요. 여기에 오기 전 미리 인터넷으로 정보를 찾아보니 예능 프로그램 짠내투어에 소개되었던 곳이라고 적혀 있었습니다. 그런데 입구에도 맛있는 곳이라고 인증 사진을 붙여두었네요. 내장탕, 선지해장국, 몸국, 고사리육개장... 정면 유리마다 메뉴를 크게 표시해 두었습니다. 그리고 어릴 때 슈퍼 앞 평상에서 놀던 추억 때인지 가게 입구에 놓인 평상에 자꾸만 시선이 가더군요. 동네 아주머니들이 모여앉아 도란도란 이야기꽃을 피우는 상상도 들고... ㅎㅎ 정겨운 외관에 끌려 안으로 들어갔는데 와우! 제주 고사리육개장 집은 조용하지 않았습니다. 테이블마다 손님들이 자리를 잡고 열심히 식사를 하고 있더군요. 다들 어떻게 알고 찾아왔는지 외부에서 온 여행객들도 있었고 현지인들도 보였습니다. 동네 어르신들이 찾는다는 건 맛이 괜찮다는 의미입니다. 그리고 식사 시간이 지났는데도 이 정도로 테이블이 꽉 찼다는 것도 인정받는 곳이라는 뜻이고요. 이 광경을 보니 제대로 찾아온 것 같습니다. 기본으로 제공되는 반찬은 오징어젓갈과 김치, 채소, 깻잎 정도입니다. 마늘과 고추는 나중에 뚝배기가 나오면 취향에 맞게 넣어 먹으면 됩니다. 이 집이 잘하는 곳인지 못하는 곳인지를 평가하는 첫 번째 기준이 반찬인데 다 괜찮습니다. 우리는 두 번씩 리필했고 쌈장까지 깨끗하게 비우고 나왔습니다. 어떤 음식을 주문해야 하나... 메뉴를 살펴보니 딱 4개만 가능합니다. 가격도 크게 부담스럽지 않아 마음에 드네요. 사실 제주 고사리육개장은 여행 올 때마다 도전하던 식당이 있었는데 공항에 내려 아무리 빨리 달려가도 한 시간은 넘게 기다려야 했습니다. 그런데 여기서 먹어보고는 굳이 다른 곳을 찾아가지 않아도 되겠다는 생각이 들었습니다. 유명 인사들의 사인도 벽에 걸려있고... 그리고 종이 적힌 글을 보면 찐으로 잘 먹었는지 아니면 인사치레로 작성한 것인지 대충 짐작할 수 있는데 여기에 부착된 글들은 하나같이 맛있다는 칭찬이었습니다. 서울에서는 경험하지 못했던 스타일... 원래 이 음식은 잔치 때 먹었던 음식이라고 합니다. 사골이나 잡뼈 등을 우려낸 육수에 고사리랑 돼지고기를 찢어서 넣고 메밀가루와 함께 끓인 국인데 한 번 맛보면 그 매력에서 빠져듭니다. 분명 어린 로하인데 먹는 스타일은 어른! 시원한 국밥을 선호하고 오메기떡을 좋아합니다. 그래서 다른 어떤 지역 보다 이 동네에 놀러 오는 걸 행복해합니다. 워낙 베스트셀러라 그런가 오래 기다리지 않았는데 바로 주문한 메뉴가 나왔습니다. 보기에는 진한 숭늉 느낌도 나고... 고춧가루와 잘게 썬 파가 올라가 있습니다. 일단 비주얼은 걸쭉함이 느껴지네요. 아무 양념 없이 국물 먼저 맛본 후 취향에 따라 마늘이나 청양고추를 곁들이면 됩니다. 저는 둘 다 듬뿍 넣었는데 전혀 맵지 않습니다. 뜨거운 김을 후후 불어가며 진짜 순식간에 클리어... 이거 한 그릇이면 든든합니다. 가끔 여행 중에 체하는 경우도 있는데 안에 들어가 있는 재료들이 워낙 부드러워 소화도 걱정 없습니다. 공깃밥도 말아 크게 한 숟갈! 시식을 해 보니 다른 테이블에 왜 그렇게 한잔하는 분들이 많은지 이해가 갔습니다. 잔을 부를 수밖에 없더군요.. 하하! 그래도 우린 다음 일정이 있으니 패스~ 아들도 한 숟가락 맛보더니 \"오~~ 좋은데!\"라며 흡족한 웃음을 보입니다. 먹는 즐거움을 느끼는 순간! 여행에서 빼놓을 없는 재미이기도 합니다. 여기에 온 건 탁월한 선택이었어~ 이번에는 내장탕을 시식해 봅니다. 보글보글 끓는 뚝배기가 눈앞에 놓이고 비주얼은 일단 통과! 콩나물 파 각종 채소에 재료들은 푸짐해 보입니다. 날계란을 톡 깨서 넣고... 국물을 맛본 후 고춧가루 양념을 추가로 넣습니다. 그냥 먹어도 맛있지만 저는 얼큰함을 선호하기에 한 스푼 듬뿍~~ 오로지 내장탕에 집중하게 만드는 맛입니다. 서울로 돌아와서도 생각났던 제주 고사리해장국과 내장탕! 화려하지 않아도 찐이기에 내내 감동하며 식사를 마쳤습니다. 사실 분위기도 저는 이렇게 소박한 가게가 좋습니다. 김치랑 깍두기도 시원하니 만족스러웠고, 깻잎과 오징어젓갈도 젓가락을 쉴 새 없이 바쁘게 만들었습니다. 이 동네 젓갈을 짜지도 않고 왜 이리 훌륭한 거지? 요거 하나만 있어도 밥 한 공기는 뚝딱할 듯합니다. 아들도 적극적으로, 평생공주도 부지런히... 앞에 놓인 음식을 클리어합니다. 여긴 다음에 또 방문하고 싶을 정도로 괜찮은 제주 고사리육개장 전문점입니다. 욕심 같아서는 포장해서 비행기를 타고 싶을 정도였습니다. 싹싹 비운 그릇 보이시죠? 웬만해서는 식당에서 빈 그릇 사진은 안 찍는데 채훈이네 해장국은 꼭 인증샷을 남기고 싶었습니다. 서울에서 멀리까지 온 보람이 느껴졌던 곳... 식사를 마치고 나올 때도 빈자리는 거의 없었습니다. 든든하게 잘 먹었다! 현지인들 사이에서도 평이 높은 곳을 찾은 것 같아 뿌듯합니다. 나중에 보니 바로 맞은편에 학교도 있습니다. 점심시간이 되면 선생님들도 여기에서 에너지를 재충전하고 오후에 힘내서 아이들을 가르칠 것 같습니다. 그런데 학교 앞에 열대나무... 뭔가 색다른 분위기입니다. ㅎㅎ 제주 고사리해장국을 찾아서 한경면 채훈이네까지 다녀온 이야기... 식시 시간에 맞춰 이 동네를 지난다면 든든하게 국밥 한 그릇으로 에너지를 채우는 것도 좋을 듯합니다. 다음에 올 때는 몸국과 선지도 도전해 보겠습니다.  \n",
      "========================================\n",
      "TOP 4 : \n",
      " #제주애월카츠\n",
      "#제주공항맛집 제주까지 와서 왜 공항에서 식사를 하느냐고 묻겠지?\n",
      "제주에 저녁에 도착하면 식사할 시간이 애매할때가 있다.\n",
      "제주의 식당들은 대부분 저녁식사를 일찍 마감을 한다.\n",
      "제주까지 와서 굶을 수는 없지.\n",
      "우연한 기회에 제주애월카츠에서 식사를 했다.\n",
      "생각이상으로 너무 맛있었다.\n",
      "밤에 제주에 오면 굳이 식당 찾으로 다닐필요가 없어서 좋다.\n",
      "맛도 좋고 가격도 괜찮고\n",
      "나 같은 뚜벅이 여행자에겐 참으로 고마운 일이 아닐 수 없다.\n",
      "여행은 밥심으로 한다고 누군가 이야기했던가?\n",
      "세트메뉴는 우동이나 냉모밀을 선택할 수 있고\n",
      "밥도 나오고\n",
      "샐러드도 있다.\n",
      "그리고 소스는 겨자, 생와사비, 소금까지 있어서 선택해서 먹을 수 있으니 참 좋다.\n",
      "등심, 안심, 치즈 모두 다 맛있어서 굳이 이걸 먹으면 더 좋다고 하기 어렵다.\n",
      "제주애월카츠는 아워홈 푸디움에서 운영하는 식당 세곳중의 하나이다.\n",
      "아워홈 푸디움 제주공항점은 제주 사계절의 '미식'과 '풍경'을 담은 공간으로\n",
      "마음까지 달래는 우리 별미 국수 '온담 국수',\n",
      "제주도 작은 마을의 친밀한 식탁 '제주리 식탁',\n",
      "제주 흑돼지로 만든 수제 카츠 '제주 애월 카츠'가 있다.\n",
      "다음엔 공항에 있는 제주리식탁과 온담국수도 이용해봐야겠다. 제주공항의 밤~ 어서오라는 환영인사를 받고서 저녁식사 마감하기전에 서둘러서 제주애월카츠로 마감 10분전 도착~~\n",
      "다행히 저녁은 굶지 않겠구나 언제와도 좋은 제주\n",
      "정말로\n",
      "제주에 오길 참말로 잘했다. ㅎ 식당내부~   부드러운 제주 흑돼지로 만든 촉촉한 돈까스 냉소바 육즙이 자르르~~\n",
      "와 맛있당!  치즈가 완전 가득 담겨있다.\n",
      "우동도 쫄깃하고~  치즈보이나요~~ ㅎ 완전 맛있는 한끼 식사를 즐겼다~~\n",
      "이젠 여행길에 올라야지 #제주돈까스맛집 #제주흑돼지돈까스 #마음이걷고발이쓴다 #여행작가김영미 #세계를걷는여자 #점점단단 #제주살이\n",
      "========================================\n",
      "TOP 5 : \n",
      " 제주도에 오면 빠짐없이 늘 먹고 가는 듯한,\n",
      "그만큼 안먹고 가면 서운한 제주 흑돼지!\n",
      "매번 가는 곳만 가다보니 이번에는 다른 곳을 가보고 싶어서\n",
      "예전에 보면서 저장해두었던 서귀포 흑돼지 맛집 난드르바당으로 향했다. 중문에서 그다지 멀지 않다. 너무 귀여운 난드르바당 간판\n",
      "알고보니 난드르바당은 이쪽 지역 이름이라고 한다.\n",
      "밤에 가서 캄캄해서 아무것도 안보였는데,\n",
      "사실 여기 ! 오션뷰가 펼쳐진 오션뷰 흑돼지집이다. 내부는 허름한 듯 보이나..!\n",
      "내부에는 거의 손님이 잘 앉지 않는 편인듯.\n",
      "테라스라고 할 수 있는 바깥 자리에 앉는다.\n",
      "여기 너머로 바다가 다 보인다는 것\n",
      "밤에와서 바다가 보이지 않아서 아쉬웠지만 ㅎ\n",
      "아무쪼록 서귀포 난드르바당은 테이블링도 있어서\n",
      "미리 테이블링을 걸어두고 가면 편리하다. 그리고 무려 1인분에 300G인 흑돼지..\n",
      "이제보니 1인분이 삼백그램이었구나..ㅋㅋㅋ 그리고 모든 반찬은 다 셀프로 더 가져다 먹을 수 있다.\n",
      "반찬 많이 먹는사람들~~ 눈치 안보고 먹을 수 있어서\n",
      "좋잖아~~?? 쌈을 포함한 모든 반찬이 무제한! 그리고 요 된장찌개도 집된장처럼 구수한 맛인데\n",
      "흑돼지를 시키면 같이 나온다. 그리고 서귀포 흑돼지맛집 난드르바당의 킥!\n",
      "흑돼지와 함께 먹는 계란과 콘치즈..\n",
      "저 콘치즈 진짜 맛있다 ㅠㅠㅠ\n",
      "맛있어서 계속 먹게되는데 저 콘치즈도 무한! 물론 제주이긴 하지만.. 항상 놀란다..\n",
      "이 흑돼지 퀄리티에..\n",
      "정말 딱 봐도 신선하고 품질 좋아보이는 고기. 처음에는 앞 뒤로만 뒤집어 주라고 하시고 뒤집으면 요로케 어느새 맛있는 빛깔. 나머지는 이렇게 직원분들이 다 잘라주신다.\n",
      "딱 먹기좋게 맛있게 잘라주심.\n",
      "너무 잘게 자르면 고기 육즙이 빠져나가서\n",
      "고기가 퍽퍽하고 마르는 편인데\n",
      "여긴 이렇게 한 입에 와앙 맛있게 먹을 수 있게끔 자름\n",
      "그걸 타지않게 뒤집어 가면서 먹으면 된다. 판에 올리고 나머지는 덜어주신다.\n",
      "다 먹으면 이걸 불판에 올려서 구워먹기만 하면 됨. 그리고 이 양념! 원래 제주 돼지고기집에 가면\n",
      "흔히 멜젓이 있는데 난드르바당에는 자리돔젓이 있다.\n",
      "이거 진짜 맛있었음!!!\n",
      "고기에 감칠맛을 더해주는 고기도둑. 콘치즈도 맛있고 한 켠에 구워먹는\n",
      "김치도 맛있고 그렇게 고기 흡입하다 보면\n",
      "슬슬 배가 불러오는데 ~~\n",
      "3명이서 3인분 시켜도 충분히 먹을 만 했음 그래도 제주도 흑돼지집에 오면 배불러도\n",
      "이 김치찌개를 꼭 시키게 된다는 마법.\n",
      "보통 서울에 있으면 고깃집 가서도 고기를 먹으면\n",
      "주로 된장을 시키지 김치찌개는 잘 안시키는데\n",
      "제주도에서 흑돼지만 먹으면 꼭 시키게됨. 새롭게 찾은 서귀포 흑돼지 난드르바당이었는데\n",
      "넘나 맛있게 먹고갔다. 고기 퀄리티부터 인심까지\n",
      "넘나 좋았던 곳~ 다음에 근처에 있다면 또 와야지. 제주 서귀포시 하예하동로 16번길 11-1\n",
      "매일 12 - 22\n",
      "매주 목요일 휴무\n",
      "064-739-0053\n",
      "========================================\n"
     ]
    }
   ],
   "source": [
    "k = 5\n",
    "\n",
    "for i in range(k):\n",
    "    print(f\"TOP {i+1} : \\n\",context[rank[i]])\n",
    "    print(\"=\"*40)"
   ]
  },
  {
   "cell_type": "code",
   "execution_count": 38,
   "metadata": {},
   "outputs": [
    {
     "name": "stdout",
     "output_type": "stream",
     "text": [
      "TOP 1 : \n",
      " https://blog.naver.com/kooni/222958189767\n",
      "========================================\n",
      "TOP 2 : \n",
      " https://blog.naver.com/hloveh01/222969736779\n",
      "========================================\n",
      "TOP 3 : \n",
      " https://blog.naver.com/danzzak78/222951432070\n",
      "========================================\n",
      "TOP 4 : \n",
      " https://blog.naver.com/rose0626/222945456032\n",
      "========================================\n",
      "TOP 5 : \n",
      " https://blog.naver.com/o0owldus/222983067494\n",
      "========================================\n"
     ]
    }
   ],
   "source": [
    "for i in range(k):\n",
    "    print(f\"TOP {i+1} : \\n\",urls[rank[i]])\n",
    "    print(\"=\"*40)\n",
    "\"\"\"\n",
    "query = \"제주도에 고기국수가 맛있는데 있는지 찾아봐야 할 것 같다. 제주도 흑돼지는 숙성도 좋고 말고기는 마우돈이 괜찮다고 해서 먹어보고 싶다고 이야기한다.\"\n",
    "# 고기국수, 흑돼지 , 말고기 \n",
    "\"\"\""
   ]
  },
  {
   "cell_type": "code",
   "execution_count": null,
   "metadata": {},
   "outputs": [],
   "source": []
  }
 ],
 "metadata": {
  "kernelspec": {
   "display_name": "base",
   "language": "python",
   "name": "python3"
  },
  "language_info": {
   "codemirror_mode": {
    "name": "ipython",
    "version": 3
   },
   "file_extension": ".py",
   "mimetype": "text/x-python",
   "name": "python",
   "nbconvert_exporter": "python",
   "pygments_lexer": "ipython3",
   "version": "3.8.5"
  },
  "orig_nbformat": 4,
  "vscode": {
   "interpreter": {
    "hash": "d4d1e4263499bec80672ea0156c357c1ee493ec2b1c70f0acce89fc37c4a6abe"
   }
  }
 },
 "nbformat": 4,
 "nbformat_minor": 2
}
