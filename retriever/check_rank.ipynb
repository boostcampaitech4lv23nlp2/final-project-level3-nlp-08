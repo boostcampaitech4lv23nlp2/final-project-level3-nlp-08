{
 "cells": [
  {
   "cell_type": "code",
   "execution_count": 13,
   "metadata": {},
   "outputs": [
    {
     "data": {
      "text/plain": [
       "tensor([[ 6055, 46643, 15365,  ..., 26547, 29989,  5891],\n",
       "        [46644,  8287, 29695,  ..., 27039, 27034, 27030],\n",
       "        [46645, 46647, 20909,  ..., 27030, 27034,  2659],\n",
       "        ...,\n",
       "        [46841, 50596, 11049,  ..., 48565, 49463, 24150],\n",
       "        [46842, 24932, 15756,  ..., 35126, 16071, 29989],\n",
       "        [46843, 46530, 15849,  ..., 43092, 25621,  9276]])"
      ]
     },
     "execution_count": 13,
     "metadata": {},
     "output_type": "execute_result"
    }
   ],
   "source": [
    "import torch\n",
    "a = torch.load('./rank/rank_epoch10.pth')\n",
    "a"
   ]
  },
  {
   "cell_type": "code",
   "execution_count": 14,
   "metadata": {},
   "outputs": [],
   "source": [
    "# TODO  1. 문서 자체를 출력해보자 -> evaluate 수정하기 2. ES 결과랑도 비교 해보기\n",
    "from datasets import load_from_disk\n",
    "import pandas as pd\n",
    "import json"
   ]
  },
  {
   "cell_type": "code",
   "execution_count": 15,
   "metadata": {},
   "outputs": [],
   "source": [
    "def set_columns(dataset):\n",
    "    dataset = pd.DataFrame(\n",
    "        {\"context\": dataset[\"context\"], \"query\": dataset[\"question\"], \"title\": dataset[\"title\"]}\n",
    "    )\n",
    "\n",
    "    return dataset"
   ]
  },
  {
   "cell_type": "code",
   "execution_count": 16,
   "metadata": {},
   "outputs": [
    {
     "name": "stdout",
     "output_type": "stream",
     "text": [
      "opening wiki passage...\n"
     ]
    }
   ],
   "source": [
    "datasets = load_from_disk(\"../../json_data/wiki_ict_dataset\")\n",
    "val_dataset = pd.DataFrame(datasets[\"validation\"])\n",
    "val_dataset = val_dataset[:201]\n",
    "\n",
    "val_dataset = val_dataset.reset_index(drop=True)\n",
    "val_dataset = set_columns(val_dataset)\n",
    "\n",
    "print(\"opening wiki passage...\")\n",
    "with open(\"../../json_data/wiki_data/wikipedia_documents.json\", \"r\", encoding=\"utf-8\") as f:\n",
    "    wiki = json.load(f)\n",
    "context = list(dict.fromkeys([v[\"text\"] for v in wiki.values()]))\n",
    "\n",
    "ground_truth = list(val_dataset[\"context\"])"
   ]
  },
  {
   "cell_type": "code",
   "execution_count": 17,
   "metadata": {},
   "outputs": [
    {
     "data": {
      "text/plain": [
       "'삼우당 문익점(1329∼1398)과 풍암 문위세(1534∼1600)를 기리기 위해 세운 서원이다. 문익점은 고려시대의 문신으로 원나라에서 목화씨를 들여와 우리나라 의생활을 크게 변화시켰다. 문위세는 문익점의 9대손으로 임진왜란 때 의병을 일으켜 공을 세웠고 정유재란 때 많은 왜적을 물리쳤다. 원래 문위세를 추모하기 위해 인조 22년(1644)에 월천사를 지었는데, 영조 10년(1734)에 문익점의 위패를 모시면서 그를 중심으로 하고 문위세를 추가로 모시게 되었다.  정조 9년(1785) 임금으로부터 ‘강성’이라는 현판을 받아 사액서원이 되었다.  그 후 흥선대원군의 서원철폐령으로 폐쇄되었다가 1905년에 강당을 중수하고, 1929년에 사당인 숭덕사를 다시 세웠다. 감성서원에는 숭덕사를 비롯해 배우는 공간인 강당, 내삼문, 외삼문이 있다. 숭덕사 안쪽 중앙에 문익점의 위패가 있고 왼쪽에는 문위세의 위패를 봉안하고 있으며, 해마다 9월 9일에 제사를 지낸다.'"
      ]
     },
     "execution_count": 17,
     "metadata": {},
     "output_type": "execute_result"
    }
   ],
   "source": [
    "ground_truth[0]"
   ]
  },
  {
   "cell_type": "code",
   "execution_count": 19,
   "metadata": {},
   "outputs": [
    {
     "data": {
      "text/plain": [
       "'구계 서침의 덕을 기리기 위해 위패를 모시고 제사지내는 서원이다.\\n\\n서침은 고려말∼조선초의 변혁기에 향촌에 은거하며 학문 연구에 노력하였다.\\n\\n구암서원은 현종 6년(1665) 세웠고, 고종 5년(1868) 대원군의 서원 철폐령으로 철거되었다가 그 후 1924년 유림이 다시 지었다. 신명여고 운동장 오른쪽 언덕 아래에 북동쪽으로 배치되어 있는데, 경앙문을 들어서면 오른쪽에 유허비각이 있고 맞은편에 강당이 있다.\\n\\n숭현사는 강당 바로 뒤에 3m쯤 떨어져 있다. 건물은 앞면 3칸·옆면 2칸 규모이며 지붕은 옆면에서 볼 때 여덟 팔(八)자 모양인 팔작지붕이다.\\n\\n구암서원 숭현사는 대구 시내에서 가장 규모가 큰 서원 안에 있을 뿐 아니라 보존 상태가 좋은 편이다.'"
      ]
     },
     "execution_count": 19,
     "metadata": {},
     "output_type": "execute_result"
    }
   ],
   "source": [
    "context[a[0][0]]"
   ]
  },
  {
   "cell_type": "code",
   "execution_count": 20,
   "metadata": {},
   "outputs": [
    {
     "data": {
      "text/plain": [
       "'삼우당 문익점(1329∼1398)과 풍암 문위세(1534∼1600)를 기리기 위해 세운 서원이다.\\n\\n문익점은 고려시대의 문신으로 원나라에서 목화씨를 들여와 우리나라 의생활을 크게 변화시켰다.\\n\\n문위세는 문익점의 9대손으로 임진왜란 때 의병을 일으켜 공을 세웠고 정유재란 때 많은 왜적을 물리쳤다.\\n\\n원래 문위세를 추모하기 위해 인조 22년(1644)에 월천사를 지었는데, 영조 10년(1734)에 문익점의 위패를 모시면서 그를 중심으로 하고 문위세를 추가로 모시게 되었다. 정조 9년(1785) 임금으로부터 ‘강성’이라는 현판을 받아 사액서원이 되었다. 그 후 흥선대원군의 서원철폐령으로 폐쇄되었다가 1905년에 강당을 중수하고, 1929년에 사당인 숭덕사를 다시 세웠다.\\n\\n감성서원에는 숭덕사를 비롯해 배우는 공간인 강당, 내삼문, 외삼문이 있다. 숭덕사는 앞면 3칸·옆면 1칸의 규모이며, 지붕은 옆면에서 볼 때 사람 인(人)자 모양인 맞배지붕이다. 강당은 앞면 5칸·옆면 2칸이며, 지붕은 옆면에서 볼 때 여덟 팔(八)자 모양인 팔작지붕으로 꾸몄다.\\n\\n숭덕사 안쪽 중앙에 문익점의 위패가 있고 왼쪽에는 문위세의 위패를 봉안하고 있으며, 해마다 9월 9일에 제사를 지낸다.'"
      ]
     },
     "execution_count": 20,
     "metadata": {},
     "output_type": "execute_result"
    }
   ],
   "source": [
    "context[a[0][1]]"
   ]
  },
  {
   "cell_type": "code",
   "execution_count": 21,
   "metadata": {},
   "outputs": [
    {
     "data": {
      "text/plain": [
       "'개미사육장은 프랑스의 곤충학자이자 박식가인 샤를 자네가 개미의 둥지를 두 개의 유리판 사이로 집어넣는 발상을 기반으로 하여 발명하였다.   그의 설계는 파리의 만국 박람회 에 전시되었다.  샤를 자네의 발명은 레지옹 도뇌르 훈장의 슈발리에 등급을 수훈받음으로서 인정받았지만, 그는 그의 발명을 특허로 등록하거나 상점에 판매하려고 하지 않았다. 1929년에 발명가이자 다트머스 대학교의 세이어 공학대학원의 교수인 프랭크 유진 오스틴 (1873-1964 ) 이 최초로 개미사육장을 상업적으로 판매하였다.    오스틴은 1931년 6월 16일에 그의 개미사육장을 특허로 등록했고,   이후 개미사육장을 개선함에 따라 계속해서 특허를 등록했다.    오스틴은 지면 위에 기발한 색칠이나 나무로 만든 궁전의 형상, 농장 등을 배치했다. 1956년에 엉클 밀턴의 설립자인 밀튼 레빈이 프랭크 오스틴과는 무관하게 개미사육장을 만들어냈다.  레빈은 7월의 네 번째 소풍 도중 이러한 발상을 떠올렸다.    레빈은 자신의 제품을 위해 개미농장Ant farm이라는 용어를 등록해서 상표로 등록했다.   오스틴은 이러한 용어를 사용하지 않은 것 같다.  그의 특허에서는, 개미사육장은 \"교육적인 장치\"와 \"경치 좋은 곤충 우리\"로 묘사되며, 오스틴의 장치에 관한 1936년의 잡지 기사에서 오스틴의 개미사육장은 \"개미 궁전\"으로 불렸다.'"
      ]
     },
     "execution_count": 21,
     "metadata": {},
     "output_type": "execute_result"
    }
   ],
   "source": [
    "ground_truth[1]"
   ]
  },
  {
   "cell_type": "code",
   "execution_count": 22,
   "metadata": {},
   "outputs": [
    {
     "data": {
      "text/plain": [
       "'개미사육장은 프랑스의 곤충학자이자 박식가인 샤를 자네가 개미의 둥지를 두 개의 유리판 사이로 집어넣는 발상을 기반으로 하여 발명하였다.  그의 설계는 파리의 만국 박람회 에 전시되었다. 샤를 자네의 발명은 레지옹 도뇌르 훈장의 슈발리에 등급을 수훈받음으로서 인정받았지만, 그는 그의 발명을 특허로 등록하거나 상점에 판매하려고 하지 않았다.\\n\\n1929년에 발명가이자 다트머스 대학교의 세이어 공학대학원의 교수인 프랭크 유진 오스틴 (1873-1964 ) 이 최초로 개미사육장을 상업적으로 판매하였다.   오스틴은 1931년 6월 16일에 그의 개미사육장을 특허로 등록했고,   이후 개미사육장을 개선함에 따라 계속해서 특허를 등록했다.   오스틴은 지면 위에 기발한 색칠이나 나무로 만든 궁전의 형상, 농장 등을 배치했다.\\n\\n1956년에 엉클 밀턴의 설립자인 밀튼 레빈이 프랭크 오스틴과는 무관하게 개미사육장을 만들어냈다. 레빈은 7월의 네 번째 소풍 도중 이러한 발상을 떠올렸다.   레빈은 자신의 제품을 위해 개미농장Ant farm이라는 용어를 등록해서 상표로 등록했다.  오스틴은 이러한 용어를 사용하지 않은 것 같다. 그의 특허에서는, 개미사육장은 \"교육적인 장치\"와 \"경치 좋은 곤충 우리\"로 묘사되며, 오스틴의 장치에 관한 1936년의 잡지 기사에서 오스틴의 개미사육장은 \"개미 궁전\"으로 불렸다. 이 상표는 스콧 아담스가 만화 딜버트에서 이 용어를 사용한 후 엉클 밀턴의 변호사가 보낸, 이 용어의 허가받지 않은 사용의 철회를 요구하는 위협적인 편지를 받았을 때 큰 악명을 얻었다. 아담은 만화의 후편에서 이 사건을 풍자했는데, 딜버트가 \"무가치하고 역겨운 작은 생물들의 서식지\"를 의미하는 다른 표현을 질문하자, 독버트가 \"로스쿨\"이라고 답했다.'"
      ]
     },
     "execution_count": 22,
     "metadata": {},
     "output_type": "execute_result"
    }
   ],
   "source": [
    "context[a[1][0]]"
   ]
  },
  {
   "cell_type": "code",
   "execution_count": null,
   "metadata": {},
   "outputs": [],
   "source": []
  }
 ],
 "metadata": {
  "kernelspec": {
   "display_name": "base",
   "language": "python",
   "name": "python3"
  },
  "language_info": {
   "codemirror_mode": {
    "name": "ipython",
    "version": 3
   },
   "file_extension": ".py",
   "mimetype": "text/x-python",
   "name": "python",
   "nbconvert_exporter": "python",
   "pygments_lexer": "ipython3",
   "version": "3.8.5"
  },
  "orig_nbformat": 4,
  "vscode": {
   "interpreter": {
    "hash": "d4d1e4263499bec80672ea0156c357c1ee493ec2b1c70f0acce89fc37c4a6abe"
   }
  }
 },
 "nbformat": 4,
 "nbformat_minor": 2
}
